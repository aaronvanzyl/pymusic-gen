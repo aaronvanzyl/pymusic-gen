{
 "cells": [
  {
   "cell_type": "code",
   "execution_count": 2,
   "metadata": {},
   "outputs": [],
   "source": [
    "# type annotations\n",
    "from typing import List\n",
    "\n",
    "# generic data handling\n",
    "import numpy as np\n",
    "\n",
    "# Music!\n",
    "import music21\n",
    "from music21 import *\n",
    "from music21.stream import Score, Stream\n",
    "\n",
    "# find+load files\n",
    "import sys\n",
    "import glob\n",
    "import os"
   ]
  },
  {
   "attachments": {},
   "cell_type": "markdown",
   "metadata": {},
   "source": [
    "## Load Music Files"
   ]
  },
  {
   "cell_type": "code",
   "execution_count": 8,
   "metadata": {},
   "outputs": [],
   "source": [
    "def load_krns(dataset_dir: str, max_files: int = 5) -> List[Score]:\n",
    "    \"\"\"\n",
    "    Recursively finds all .krn files in a directory. \n",
    "    Returns: .krn files converted to music21 Scores\n",
    "    \"\"\"\n",
    "    dataset_dir = os.path.normpath(dataset_dir)\n",
    "    file_types = ['mid', 'krn']\n",
    "    paths_partial = []\n",
    "    for file_type in file_types:\n",
    "        paths_partial.extend(glob.glob(f'**/**.{file_type}', root_dir=dataset_dir, recursive=True))\n",
    "    paths_partial = paths_partial[:max_files]\n",
    "    scores = []\n",
    "    for path_partial in paths_partial:\n",
    "        path_full = os.path.join(dataset_dir, path_partial)\n",
    "        filename = os.path.split(path_full)[-1]\n",
    "\n",
    "        score = converter.parse(path_full)\n",
    "        score.metadata.setCustom('filename', filename)\n",
    "        scores.append(score)\n",
    "    return scores"
   ]
  },
  {
   "cell_type": "code",
   "execution_count": 9,
   "metadata": {},
   "outputs": [],
   "source": [
    "scores = load_krns('./datasets')"
   ]
  },
  {
   "cell_type": "code",
   "execution_count": 10,
   "metadata": {},
   "outputs": [
    {
     "data": {
      "text/plain": [
       "[<music21.stream.Score 0x2acd0804b30>,\n",
       " <music21.stream.Score 0x2acd07a8c80>,\n",
       " <music21.stream.Score 0x2acd08075f0>,\n",
       " <music21.stream.Score 0x2acd0807710>,\n",
       " <music21.stream.Score 0x2acd01cdaf0>]"
      ]
     },
     "execution_count": 10,
     "metadata": {},
     "output_type": "execute_result"
    }
   ],
   "source": [
    "scores"
   ]
  },
  {
   "cell_type": "markdown",
   "metadata": {},
   "source": [
    "## Reverse Timing\n",
    "\n"
   ]
  },
  {
   "cell_type": "code",
   "execution_count": 42,
   "metadata": {},
   "outputs": [],
   "source": [
    "def reverse_stream(stream: Stream, max_offset: music21.base.OffsetQL = -1) -> Stream:\n",
    "    \"\"\"\n",
    "    Reverse the timing of notes in a stream.\n",
    "    Parameters:\n",
    "        max_offset: The offset (in seconds) of the last note. Set manually to synchronize multiple streams. Leave as -1 to auto-compute.\n",
    "    Returns: A reversed copy of the stream\n",
    "    \"\"\"\n",
    "    new_stream = stream.flatten()\n",
    "    notes = list(new_stream.notes)\n",
    "    if max_offset == -1:\n",
    "        max_offset = max(x.offset for x in notes)\n",
    "    for n in notes:\n",
    "        n.offset = max_offset - n.offset\n",
    "    \n",
    "    return new_stream\n",
    "\n",
    "def reverse_score(score: Score) -> Score:\n",
    "    \"\"\"\n",
    "    Reverse the timing of notes in all parts of a score\n",
    "    Returns: A reversed copy of the score\n",
    "    \"\"\"\n",
    "    new_score = score.cloneEmpty()\n",
    "\n",
    "    # Determine offset of very last note of all parts\n",
    "    max_offset = 0.0\n",
    "    for part in score.parts: \n",
    "        part_max_offset = max(x.offset for x in part.flatten().notes)\n",
    "        max_offset = max(max_offset, part_max_offset)\n",
    "\n",
    "    # Reverse each part\n",
    "    for part in score.parts:\n",
    "        new_score.insert(reverse_stream(part, max_offset))\n",
    "\n",
    "    return new_score"
   ]
  },
  {
   "cell_type": "code",
   "execution_count": null,
   "metadata": {},
   "outputs": [],
   "source": []
  },
  {
   "cell_type": "code",
   "execution_count": 43,
   "metadata": {},
   "outputs": [
    {
     "name": "stdout",
     "output_type": "stream",
     "text": [
      "[<music21.note.Note D>, <music21.note.Note D>, <music21.note.Note G>, <music21.note.Note G>, <music21.note.Note F#>, <music21.note.Note G>, <music21.note.Note A>, <music21.note.Note F#>, <music21.note.Note D>, <music21.note.Note C>, <music21.note.Note C>, <music21.note.Note B>, <music21.note.Note C>, <music21.note.Note C>, <music21.note.Note E>, <music21.note.Note D>, <music21.note.Note F#>, <music21.note.Note E>, <music21.note.Note D>, <music21.note.Note C>, <music21.note.Note B>, <music21.note.Note D>, <music21.note.Note E>, <music21.note.Note F#>, <music21.note.Note G>, <music21.note.Note A>, <music21.note.Note B>, <music21.note.Note C>, <music21.note.Note D>, <music21.note.Note D>, <music21.note.Note E>, <music21.note.Note D>, <music21.note.Note C>, <music21.note.Note B>, <music21.note.Note B>, <music21.note.Note A>, <music21.note.Note A>, <music21.note.Note B>, <music21.note.Note A>, <music21.note.Note D>, <music21.note.Note C#>, <music21.note.Note B>, <music21.note.Note A>, <music21.note.Note A>, <music21.note.Note B>, <music21.note.Note A>, <music21.note.Note A>, <music21.note.Note A>, <music21.note.Note A>, <music21.note.Note A>, <music21.note.Note F#>, <music21.note.Note G>, <music21.note.Note G>, <music21.note.Note G>, <music21.note.Note G>, <music21.note.Note G>, <music21.note.Note E>, <music21.note.Note F#>, <music21.note.Note F#>, <music21.note.Note F#>, <music21.note.Note F#>, <music21.note.Note E>, <music21.note.Note F#>, <music21.note.Note E>, <music21.note.Note F#>, <music21.note.Note G>, <music21.note.Note A>, <music21.note.Note D>, <music21.note.Note D>, <music21.note.Note D>, <music21.note.Note G>, <music21.note.Note E>, <music21.note.Note F#>, <music21.note.Note D>, <music21.note.Note C#>, <music21.note.Note E>, <music21.note.Note C#>, <music21.note.Note A>, <music21.note.Note A>, <music21.note.Note A>, <music21.note.Note D>, <music21.note.Note F#>, <music21.note.Note A>, <music21.note.Note D>, <music21.note.Note C>, <music21.note.Note A>, <music21.note.Note B>, <music21.note.Note D>, <music21.note.Note B>, <music21.note.Note G>, <music21.note.Note D>, <music21.note.Note B>, <music21.note.Note G>, <music21.note.Note D>, <music21.note.Note B>, <music21.note.Note G>, <music21.note.Note D>, <music21.note.Note B>, <music21.note.Note G>, <music21.note.Note B>, <music21.note.Note G>, <music21.note.Note F#>, <music21.note.Note A>, <music21.note.Note G>, <music21.note.Note F#>, <music21.note.Note G>, <music21.note.Note A>, <music21.note.Note B>, <music21.note.Note C#>, <music21.note.Note D>, <music21.note.Note C#>, <music21.note.Note D>, <music21.note.Note C#>, <music21.note.Note D>, <music21.note.Note A>, <music21.note.Note F#>, <music21.note.Note D>, <music21.note.Note E>, <music21.note.Note D>, <music21.note.Note E>, <music21.note.Note D>, <music21.note.Note E>, <music21.note.Note F#>, <music21.note.Note G>, <music21.note.Note A>, <music21.note.Note B>, <music21.note.Note C#>, <music21.note.Note D>, <music21.note.Note C>, <music21.note.Note B>, <music21.note.Note A>, <music21.note.Note G>, <music21.note.Note F#>, <music21.note.Note E>, <music21.note.Note D>, <music21.note.Note E>, <music21.note.Note D>, <music21.note.Note A>, <music21.note.Note B>, <music21.note.Note A>, <music21.note.Note B>, <music21.note.Note G>, <music21.note.Note F#>, <music21.note.Note G>, <music21.note.Note E>, <music21.note.Note C#>, <music21.note.Note C#>, <music21.note.Note D>, <music21.note.Note D>, <music21.note.Note D>, <music21.note.Note G>, <music21.note.Note D>, <music21.note.Note C>, <music21.note.Note B>, <music21.note.Note B>, <music21.note.Note A>, <music21.note.Note E>, <music21.note.Note E>, <music21.note.Note F#>, <music21.note.Note G#>, <music21.note.Note A>, <music21.note.Note B>, <music21.note.Note C>, <music21.note.Note D>, <music21.note.Note B>, <music21.note.Note C>, <music21.note.Note A>, <music21.note.Note E>, <music21.note.Note G>, <music21.note.Note F#>, <music21.note.Note G>, <music21.note.Note D>, <music21.note.Note B>, <music21.note.Note G>, <music21.note.Note D>, <music21.note.Note B>, <music21.note.Note G>, <music21.note.Note F>, <music21.note.Note E>, <music21.note.Note E>, <music21.note.Note C>, <music21.note.Note A>, <music21.note.Note G>, <music21.note.Note F#>, <music21.note.Note E>, <music21.note.Note D>, <music21.note.Note E>, <music21.note.Note D>, <music21.note.Note C>, <music21.note.Note C>, <music21.note.Note A>, <music21.note.Note F#>, <music21.note.Note C>, <music21.note.Note C>, <music21.note.Note B>, <music21.note.Note E>, <music21.note.Note E>, <music21.note.Note G>, <music21.note.Note G>, <music21.note.Note F#>, <music21.note.Note E>, <music21.note.Note D>, <music21.note.Note D>, <music21.note.Note E>, <music21.note.Note F#>, <music21.note.Note G>, <music21.note.Note A>, <music21.note.Note B>, <music21.note.Note C>, <music21.note.Note D>, <music21.note.Note E>, <music21.note.Note D>, <music21.note.Note C>, <music21.note.Note B>, <music21.note.Note B>, <music21.note.Note A>, <music21.note.Note D>, <music21.note.Note E>, <music21.note.Note D>, <music21.note.Note G>, <music21.note.Note F#>, <music21.note.Note E>, <music21.note.Note D>, <music21.note.Note D>, <music21.note.Note E>, <music21.note.Note D>, <music21.note.Note D>, <music21.note.Note D>, <music21.note.Note D>, <music21.note.Note D>, <music21.note.Note B>, <music21.note.Note C>, <music21.note.Note C>, <music21.note.Note C>, <music21.note.Note C>, <music21.note.Note C>, <music21.note.Note A>, <music21.note.Note B>, <music21.note.Note B>, <music21.note.Note B>, <music21.note.Note B>, <music21.note.Note A>, <music21.note.Note B>, <music21.note.Note A>, <music21.note.Note B>, <music21.note.Note C>, <music21.note.Note D>, <music21.note.Note G>, <music21.note.Note G>, <music21.note.Note G>, <music21.note.Note C>, <music21.note.Note A>, <music21.note.Note B>, <music21.note.Note G>, <music21.note.Note F#>, <music21.note.Note A>, <music21.note.Note F#>, <music21.note.Note D>, <music21.note.Note D>, <music21.note.Note D>, <music21.note.Note G>, <music21.note.Note B>, <music21.note.Note D>, <music21.note.Note G>, <music21.note.Note D>, <music21.note.Note F>, <music21.note.Note E>, <music21.note.Note G>, <music21.note.Note E>, <music21.note.Note C>, <music21.note.Note E>, <music21.note.Note C>, <music21.note.Note G>, <music21.note.Note C>, <music21.note.Note G>, <music21.note.Note E>, <music21.note.Note G>, <music21.note.Note E>, <music21.note.Note C>, <music21.note.Note G>, <music21.note.Note E>, <music21.note.Note C>, <music21.note.Note B>, <music21.note.Note D>, <music21.note.Note C>, <music21.note.Note B>, <music21.note.Note C>, <music21.note.Note D>, <music21.note.Note E>, <music21.note.Note F#>, <music21.note.Note G>, <music21.note.Note A>, <music21.note.Note B>, <music21.note.Note C>, <music21.note.Note D>, <music21.note.Note A>, <music21.note.Note G>, <music21.note.Note A>, <music21.note.Note B>, <music21.note.Note C>, <music21.note.Note D>, <music21.note.Note E>, <music21.note.Note F#>, <music21.note.Note G>, <music21.note.Note F>, <music21.note.Note E>, <music21.note.Note D>, <music21.note.Note C>, <music21.note.Note B>, <music21.note.Note A>, <music21.note.Note G>, <music21.note.Note A>, <music21.note.Note G>, <music21.note.Note D>, <music21.note.Note E>, <music21.note.Note D>, <music21.note.Note E>, <music21.note.Note C>, <music21.note.Note B>, <music21.note.Note C>, <music21.note.Note A>, <music21.note.Note F#>, <music21.note.Note F#>, <music21.note.Note G>]\n",
      "[<music21.note.Note G>, <music21.note.Note F#>, <music21.note.Note F#>, <music21.note.Note A>, <music21.note.Note C>, <music21.note.Note B>, <music21.note.Note C>, <music21.note.Note E>, <music21.note.Note D>, <music21.note.Note E>, <music21.note.Note D>, <music21.note.Note G>, <music21.note.Note A>, <music21.note.Note G>, <music21.note.Note A>, <music21.note.Note B>, <music21.note.Note C>, <music21.note.Note D>, <music21.note.Note E>, <music21.note.Note F>, <music21.note.Note G>, <music21.note.Note F#>, <music21.note.Note E>, <music21.note.Note D>, <music21.note.Note C>, <music21.note.Note B>, <music21.note.Note A>, <music21.note.Note G>, <music21.note.Note A>, <music21.note.Note D>, <music21.note.Note C>, <music21.note.Note B>, <music21.note.Note A>, <music21.note.Note G>, <music21.note.Note F#>, <music21.note.Note E>, <music21.note.Note D>, <music21.note.Note C>, <music21.note.Note B>, <music21.note.Note C>, <music21.note.Note D>, <music21.note.Note B>, <music21.note.Note C>, <music21.note.Note E>, <music21.note.Note G>, <music21.note.Note C>, <music21.note.Note E>, <music21.note.Note G>, <music21.note.Note E>, <music21.note.Note G>, <music21.note.Note C>, <music21.note.Note G>, <music21.note.Note C>, <music21.note.Note E>, <music21.note.Note C>, <music21.note.Note E>, <music21.note.Note G>, <music21.note.Note E>, <music21.note.Note F>, <music21.note.Note D>, <music21.note.Note G>, <music21.note.Note D>, <music21.note.Note B>, <music21.note.Note G>, <music21.note.Note D>, <music21.note.Note D>, <music21.note.Note D>, <music21.note.Note F#>, <music21.note.Note A>, <music21.note.Note F#>, <music21.note.Note G>, <music21.note.Note B>, <music21.note.Note A>, <music21.note.Note C>, <music21.note.Note G>, <music21.note.Note G>, <music21.note.Note G>, <music21.note.Note D>, <music21.note.Note C>, <music21.note.Note B>, <music21.note.Note A>, <music21.note.Note B>, <music21.note.Note A>, <music21.note.Note B>, <music21.note.Note B>, <music21.note.Note B>, <music21.note.Note B>, <music21.note.Note A>, <music21.note.Note C>, <music21.note.Note C>, <music21.note.Note C>, <music21.note.Note C>, <music21.note.Note C>, <music21.note.Note B>, <music21.note.Note D>, <music21.note.Note D>, <music21.note.Note D>, <music21.note.Note D>, <music21.note.Note D>, <music21.note.Note E>, <music21.note.Note D>, <music21.note.Note D>, <music21.note.Note E>, <music21.note.Note F#>, <music21.note.Note G>, <music21.note.Note D>, <music21.note.Note E>, <music21.note.Note D>, <music21.note.Note A>, <music21.note.Note B>, <music21.note.Note B>, <music21.note.Note C>, <music21.note.Note D>, <music21.note.Note E>, <music21.note.Note D>, <music21.note.Note C>, <music21.note.Note B>, <music21.note.Note A>, <music21.note.Note G>, <music21.note.Note F#>, <music21.note.Note E>, <music21.note.Note D>, <music21.note.Note D>, <music21.note.Note E>, <music21.note.Note F#>, <music21.note.Note G>, <music21.note.Note G>, <music21.note.Note E>, <music21.note.Note E>, <music21.note.Note B>, <music21.note.Note C>, <music21.note.Note C>, <music21.note.Note F#>, <music21.note.Note A>, <music21.note.Note C>, <music21.note.Note C>, <music21.note.Note D>, <music21.note.Note E>, <music21.note.Note D>, <music21.note.Note E>, <music21.note.Note F#>, <music21.note.Note G>, <music21.note.Note A>, <music21.note.Note C>, <music21.note.Note E>, <music21.note.Note E>, <music21.note.Note F>, <music21.note.Note G>, <music21.note.Note B>, <music21.note.Note D>, <music21.note.Note G>, <music21.note.Note B>, <music21.note.Note D>, <music21.note.Note G>, <music21.note.Note F#>, <music21.note.Note G>, <music21.note.Note E>, <music21.note.Note A>, <music21.note.Note C>, <music21.note.Note B>, <music21.note.Note D>, <music21.note.Note C>, <music21.note.Note B>, <music21.note.Note A>, <music21.note.Note G#>, <music21.note.Note F#>, <music21.note.Note E>, <music21.note.Note E>, <music21.note.Note A>, <music21.note.Note B>, <music21.note.Note B>, <music21.note.Note C>, <music21.note.Note D>, <music21.note.Note G>, <music21.note.Note D>, <music21.note.Note D>, <music21.note.Note D>, <music21.note.Note C#>, <music21.note.Note C#>, <music21.note.Note E>, <music21.note.Note G>, <music21.note.Note F#>, <music21.note.Note G>, <music21.note.Note B>, <music21.note.Note A>, <music21.note.Note B>, <music21.note.Note A>, <music21.note.Note D>, <music21.note.Note E>, <music21.note.Note D>, <music21.note.Note E>, <music21.note.Note F#>, <music21.note.Note G>, <music21.note.Note A>, <music21.note.Note B>, <music21.note.Note C>, <music21.note.Note D>, <music21.note.Note C#>, <music21.note.Note B>, <music21.note.Note A>, <music21.note.Note G>, <music21.note.Note F#>, <music21.note.Note E>, <music21.note.Note D>, <music21.note.Note E>, <music21.note.Note D>, <music21.note.Note E>, <music21.note.Note D>, <music21.note.Note F#>, <music21.note.Note A>, <music21.note.Note D>, <music21.note.Note C#>, <music21.note.Note D>, <music21.note.Note C#>, <music21.note.Note D>, <music21.note.Note C#>, <music21.note.Note B>, <music21.note.Note A>, <music21.note.Note G>, <music21.note.Note F#>, <music21.note.Note G>, <music21.note.Note A>, <music21.note.Note F#>, <music21.note.Note G>, <music21.note.Note B>, <music21.note.Note G>, <music21.note.Note B>, <music21.note.Note D>, <music21.note.Note G>, <music21.note.Note B>, <music21.note.Note D>, <music21.note.Note G>, <music21.note.Note B>, <music21.note.Note D>, <music21.note.Note G>, <music21.note.Note B>, <music21.note.Note D>, <music21.note.Note B>, <music21.note.Note A>, <music21.note.Note C>, <music21.note.Note D>, <music21.note.Note A>, <music21.note.Note F#>, <music21.note.Note D>, <music21.note.Note A>, <music21.note.Note A>, <music21.note.Note A>, <music21.note.Note C#>, <music21.note.Note E>, <music21.note.Note C#>, <music21.note.Note D>, <music21.note.Note F#>, <music21.note.Note E>, <music21.note.Note G>, <music21.note.Note D>, <music21.note.Note D>, <music21.note.Note D>, <music21.note.Note A>, <music21.note.Note G>, <music21.note.Note F#>, <music21.note.Note E>, <music21.note.Note F#>, <music21.note.Note E>, <music21.note.Note F#>, <music21.note.Note F#>, <music21.note.Note F#>, <music21.note.Note F#>, <music21.note.Note E>, <music21.note.Note G>, <music21.note.Note G>, <music21.note.Note G>, <music21.note.Note G>, <music21.note.Note G>, <music21.note.Note F#>, <music21.note.Note A>, <music21.note.Note A>, <music21.note.Note A>, <music21.note.Note A>, <music21.note.Note A>, <music21.note.Note B>, <music21.note.Note A>, <music21.note.Note A>, <music21.note.Note B>, <music21.note.Note C#>, <music21.note.Note D>, <music21.note.Note A>, <music21.note.Note B>, <music21.note.Note A>, <music21.note.Note A>, <music21.note.Note B>, <music21.note.Note B>, <music21.note.Note C>, <music21.note.Note D>, <music21.note.Note E>, <music21.note.Note D>, <music21.note.Note D>, <music21.note.Note C>, <music21.note.Note B>, <music21.note.Note A>, <music21.note.Note G>, <music21.note.Note F#>, <music21.note.Note E>, <music21.note.Note D>, <music21.note.Note B>, <music21.note.Note C>, <music21.note.Note D>, <music21.note.Note E>, <music21.note.Note F#>, <music21.note.Note D>, <music21.note.Note E>, <music21.note.Note C>, <music21.note.Note C>, <music21.note.Note B>, <music21.note.Note C>, <music21.note.Note C>, <music21.note.Note D>, <music21.note.Note F#>, <music21.note.Note A>, <music21.note.Note G>, <music21.note.Note F#>, <music21.note.Note G>, <music21.note.Note G>, <music21.note.Note D>, <music21.note.Note D>]\n"
     ]
    },
    {
     "data": {
      "text/plain": [
       "'output/reversal/score_part0_reverse.mid'"
      ]
     },
     "execution_count": 43,
     "metadata": {},
     "output_type": "execute_result"
    }
   ],
   "source": [
    "sample_score = scores[0]\n",
    "\n",
    "sample_stream = sample_score.parts[0]\n",
    "sample_stream_reverse = reverse_stream(sample_stream)\n",
    "\n",
    "print(list(sample_stream.flatten().notes))\n",
    "print(list(sample_stream_reverse.notes))\n",
    "\n",
    "sample_stream.write('midi', 'output/reversal/score_part0_orig.mid')\n",
    "sample_stream_reverse.write('midi', 'output/reversal/score_part0_reverse.mid')\n"
   ]
  },
  {
   "cell_type": "code",
   "execution_count": 44,
   "metadata": {},
   "outputs": [
    {
     "data": {
      "text/plain": [
       "'output/reversal/score_full_reverse.mid'"
      ]
     },
     "execution_count": 44,
     "metadata": {},
     "output_type": "execute_result"
    }
   ],
   "source": [
    "sample_score_reverse = reverse_score(sample_score)\n",
    "\n",
    "sample_score.write('midi', 'output/reversal/score_full_orig.mid')\n",
    "sample_score_reverse.write('midi', 'output/reversal/score_full_reverse.mid')"
   ]
  },
  {
   "cell_type": "code",
   "execution_count": 59,
   "metadata": {},
   "outputs": [
    {
     "data": {
      "text/plain": [
       "(<music21.metadata.primitives.Text xyz file>,)"
      ]
     },
     "execution_count": 59,
     "metadata": {},
     "output_type": "execute_result"
    }
   ],
   "source": []
  },
  {
   "cell_type": "code",
   "execution_count": 29,
   "metadata": {},
   "outputs": [
    {
     "data": {
      "text/plain": [
       "0.0"
      ]
     },
     "execution_count": 29,
     "metadata": {},
     "output_type": "execute_result"
    }
   ],
   "source": []
  },
  {
   "cell_type": "markdown",
   "metadata": {},
   "source": [
    "## Save Scores to .midi\n",
    "\n"
   ]
  },
  {
   "cell_type": "code",
   "execution_count": 7,
   "metadata": {},
   "outputs": [
    {
     "data": {
      "text/plain": [
       "'output/test/test_score_0.mid'"
      ]
     },
     "execution_count": 7,
     "metadata": {},
     "output_type": "execute_result"
    }
   ],
   "source": [
    "scores[0].write('midi', 'output/test/test_score_0.mid')"
   ]
  },
  {
   "cell_type": "markdown",
   "metadata": {},
   "source": [
    "## Load "
   ]
  }
 ],
 "metadata": {
  "kernelspec": {
   "display_name": "music312",
   "language": "python",
   "name": "python3"
  },
  "language_info": {
   "codemirror_mode": {
    "name": "ipython",
    "version": 3
   },
   "file_extension": ".py",
   "mimetype": "text/x-python",
   "name": "python",
   "nbconvert_exporter": "python",
   "pygments_lexer": "ipython3",
   "version": "3.12.8"
  },
  "orig_nbformat": 4
 },
 "nbformat": 4,
 "nbformat_minor": 2
}
