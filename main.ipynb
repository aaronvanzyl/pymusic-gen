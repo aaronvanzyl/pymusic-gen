{
 "cells": [
  {
   "cell_type": "code",
   "execution_count": 5,
   "metadata": {},
   "outputs": [],
   "source": [
    "# type annotations\n",
    "from typing import List\n",
    "\n",
    "# generic data handling\n",
    "import numpy as np\n",
    "\n",
    "# Music!\n",
    "from music21 import *\n",
    "from music21.stream import Score\n",
    "\n",
    "# find+load files\n",
    "import sys\n",
    "import glob\n",
    "import os"
   ]
  },
  {
   "attachments": {},
   "cell_type": "markdown",
   "metadata": {},
   "source": [
    "## Load Music Files"
   ]
  },
  {
   "cell_type": "code",
   "execution_count": 11,
   "metadata": {},
   "outputs": [],
   "source": [
    "def load_krns(dataset_dir: str) -> List[Score]:\n",
    "    \"\"\"\n",
    "    Recursively finds all .krn files in a directory. \n",
    "    Returns: .krn files converted to music21 Scores\n",
    "    \"\"\"\n",
    "    dataset_dir = os.path.normpath(dataset_dir)\n",
    "    paths_partial = glob.glob('**/**.krn', root_dir=dataset_dir, recursive=True)[:5]\n",
    "    paths_full = [f'{os.path.join(dataset_dir,x)}' for x in paths_partial]\n",
    "    scores = [converter.parse(x) for x in paths_full]\n",
    "    return scores"
   ]
  },
  {
   "cell_type": "code",
   "execution_count": 10,
   "metadata": {},
   "outputs": [],
   "source": [
    "scores = load_krns('./datasets')"
   ]
  },
  {
   "cell_type": "code",
   "execution_count": null,
   "metadata": {},
   "outputs": [],
   "source": []
  },
  {
   "cell_type": "markdown",
   "metadata": {},
   "source": [
    "## Load "
   ]
  }
 ],
 "metadata": {
  "kernelspec": {
   "display_name": "music312",
   "language": "python",
   "name": "python3"
  },
  "language_info": {
   "codemirror_mode": {
    "name": "ipython",
    "version": 3
   },
   "file_extension": ".py",
   "mimetype": "text/x-python",
   "name": "python",
   "nbconvert_exporter": "python",
   "pygments_lexer": "ipython3",
   "version": "3.12.8"
  },
  "orig_nbformat": 4
 },
 "nbformat": 4,
 "nbformat_minor": 2
}
